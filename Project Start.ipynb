{
 "cells": [
  {
   "cell_type": "markdown",
   "metadata": {},
   "source": [
    "Create a search Engine that has inverted Index\n",
    "TFIDF or BM25\n",
    "Start on Basics and Test\n",
    "get feedback"
   ]
  },
  {
   "cell_type": "code",
   "execution_count": 50,
   "metadata": {
    "collapsed": false
   },
   "outputs": [
    {
     "name": "stdout",
     "output_type": "stream",
     "text": [
      "['No Content.', u'standard oil co and bp north america inc said they plan to form a venture to manage the money market borrowing and investment activities of both companies     bp north america is a subsidiary of british petroleum co plc  which also owns a 55 pct interest in standard oil     the venture will be called bp/standard financial trading and will be operated by standard oil under the oversight of a joint management committee   reuter ', u'texas commerce bancshares incs texas commerce bankhouston said it filed an application with the comptroller of the currency in an effort to create the largest banking network in harris county     the bank said the network would link 31 banks having 135 billion dlrs in assets and 75 billion dlrs in deposits          reuter ', u'bankamerica corp is not under pressure to act quickly on its proposed equity offering and would do well to delay it because of the stocks recent poor performance banking analysts said     some analysts said they have recommended bankamerica delay its up to onebilliondlr equity offering which has yet to be approved by the securities and exchange commission     bankamerica stock fell this week along with other banking issues on the news that brazil has suspended interest payments on a large portion of its foreign debt     the stock traded around 12 down 1/8 this afternoon after falling to 111/2 earlier this week on the news     banking analysts said that with the immediate threat of the first interstate bancorp  takeover bid gone bankamerica is under no pressure to sell the securities into a market that will be nervous on bank stocks in the near term     bankamerica filed the offer on january 26 it was seen as one of the major factors leading the first interstate withdrawing its takeover bid on february 9     a bankamerica spokesman said sec approval is taking longer than expected and market conditions must now be reevaluated     \"the circumstances at the time will determine what we do\" said arthur miller bankamericas vice president for financial communications when asked if bankamerica would proceed with the offer immediately after it receives sec approval     \"id put it off as long as they conceivably could\" said lawrence cohn analyst with merrill lynch pierce fenner and smith     cohn said the longer bankamerica waits the longer they have to show the market an improved financial outlook     although bankamerica has yet to specify the types of equities it would offer most analysts believed a convertible preferred stock would encompass at least part of it     such an offering at a depressed stock price would mean a lower conversion price and more dilution to bankamerica stock holders noted daniel williams analyst with sutro group     several analysts said that while they believe the brazilian debt problem will continue to hang over the banking industry through the quarter the initial shock reaction is likely to ease over the coming weeks     nevertheless bankamerica which holds about 270 billion dlrs in brazilian loans stands to lose 1520 mln dlrs if the interest rate is reduced on the debt and as much as 200 mln dlrs if brazil pays no interest for a year said joseph arsenio analyst with birr wilson and co     he noted however that any potential losses would not show up in the current quarter     with other major banks standing to lose even more than bankamerica if brazil fails to service its debt the analysts said they expect the debt will be restructured similar to way mexicos debt was minimizing losses to the creditor banks  reuter ', u'the us agriculture department reported the farmerowned reserve national fiveday average price through february 25 as follows dlrs/busorghum cwt           natl   loan           release   call          avge   ratex  level    price  price  wheat   255   240       iv     465                                  v     465                                 vi     445       corn    135   192       iv     315   315                             v     325       x  1986 rates            natl   loan          release   call           avge   ratex  level   price  price  oats     124   099        v    165       barley   na   156       iv    255   255                              v    265       sorghum  234   325y     iv    536   536                              v    554          reserves i ii and iii have matured level iv reflects grain entered after oct 6 1981 for feedgrain and after july 23 1981 for wheat level v wheat/barley after 5/14/82 corn/sorghum after 7/1/82 level vi covers wheat entered after january 19 1984  x1986 rates ydlrs per cwt 100 lbs nanot available  reuter ', u'argentine grain board figures show crop registrations of grains oilseeds and their products to february 11 in thousands of tonnes showing those for future shipments month 1986/87 total and 1985/86 total to february 12 1986 in brackets     bread wheat prev 16558 feb 8720 march 1646 total 26924 41610     maize mar 480 total 480 nil     sorghum nil nil     oilseed export registrations were     sunflowerseed total 150 79     soybean may 200 total 200 nil     the board also detailed export registrations for subproducts as follows     subproducts     wheat prev 399 feb 487 march 132 apr 100 total 1118 827      linseed prev 348 feb 329 mar 68 apr 63 total 808 874     soybean prev 1009 feb 451 mar nil apr nil may 200 total 1661 2185     sunflowerseed prev 486 feb 615 mar 251 apr 145 total 1498 1453     vegetable oil registrations were               sunoil prev 374 feb 1073 mar 245 apr 32 may nil jun 100 total 1824 1176                       linoil prev 159 feb 236 mar 204 apr 20 total 618 761                              soybean oil prev 37 feb 211 mar nil apr 20 may 90 jun 130 jul 70 total 558 337        reuter ', u'red lion inns limited partnership said it filed a registration statement with the securities and exchange commission covering a proposed offering of 4790000 units of limited partnership interests     the company said it expects the offering to be priced at 20 dlrs per unit     it said proceeds from the offering along with a 1025 mln dlr mortgage loan will be used to finance its planned acquisition of 10 red lion hotels  reuter ', u'moodys investors service inc said it lowered the debt and preferred stock ratings of usx corp and its units about seven billion dlrs of securities is affected     moodys said marathon oil cos recent establishment of up to one billion dlrs in production payment facilities on its prolific yates field has significant negative implications for usxs unsecured creditors     the company appears to have positioned its steel segment for a return to profit by late 1987 moodys added     ratings lowered include those on usxs senior debt to ba1 from baa3  reuter ', u'champion products inc said its board of directors approved a twoforone stock split of its common shares for shareholders of record as of april 1 1987     the company also said its board voted to recommend to shareholders at the annual meeting april 23 an increase in the authorized capital stock from five mln to 25 mln shares  reuter ', u'computer terminal systems inc said it has completed the sale of 200000 shares of its common stock and warrants to acquire an additional one mln shares to  of lugano switzerland for 50000 dlrs     the company said the warrants are exercisable for five years at a purchase price of 125 dlrs per share     computer terminal said sedio also has the right to buy additional shares and increase its total holdings up to 40 pct of the computer terminals outstanding common stock under certain circumstances involving change of control at the company     the company said if the conditions occur the warrants would be exercisable at a price equal to 75 pct of its common stocks market price at the time not to exceed 150 dlrs per share     computer terminal also said it sold the technolgy rights to its dot matrix impact technology including any future improvements to  of houston tex for 200000 dlrs but it said it would continue to be the exclusive worldwide licensee of the technology for woodco     the company said the moves were part of its reorganization plan and would help pay current operation costs and ensure product delivery     computer terminal makes computer generated labels forms tags and ticket printers and terminals  reuter ']\n"
     ]
    }
   ],
   "source": [
    "from xml.etree import ElementTree\n",
    "import re\n",
    "from StringIO import StringIO\n",
    "\n",
    "from bs4 import BeautifulSoup\n",
    "\n",
    "totstring=\"\"\n",
    "\n",
    "with open(\"Data/reut2-000.sgm\",'r') as inF:\n",
    "    for line in inF:\n",
    "        string2=re.sub(\"&.*?>\",\"\",line,flags=re.UNICODE)\n",
    "        string3=re.sub(\"\\n\",\" \",string2,flags=re.UNICODE)\n",
    "        string=re.sub(\"[^0-9a-zA-Z<>/\\s=!-\\\"\\\"]+\",\"\",string3.lower())\n",
    "        totstring+=string\n",
    "    \n",
    "soup= BeautifulSoup(totstring)\n",
    "\n",
    "items_date=list()\n",
    "items_places=list()\n",
    "items_title=list()\n",
    "items_body=list()\n",
    "\n",
    "\n",
    "for a in soup.findAll(\"reuters\"):\n",
    "    if a.date != None:\n",
    "        items_date.append(a.date.getText())\n",
    "    else:\n",
    "        items_date.append(\"N/D\")\n",
    "    if a.places != None:\n",
    "        items_places.append(a.places.getText()) \n",
    "    else:\n",
    "        items_places.append(\"N/L\")\n",
    "    if a.title != None:\n",
    "        items_title.append(a.title.getText())  \n",
    "    else:\n",
    "        items_title.append(\"Untitled\")\n",
    "    if a.content != None:\n",
    "        items_body.append(a.content.getText())\n",
    "    else:\n",
    "        items_body.append(\"No Content.\")\n",
    "\n",
    "\n",
    "\n",
    "\n",
    "\n",
    "\n",
    "'''\n",
    "for a in soup.findAll(\"content\"):\n",
    "    if soup.reuters.content != None:\n",
    "        items_body.append(a.getText())\n",
    "\n",
    "for b in soup.findAll(\"title\"):\n",
    "    items_title.append(b.getText())\n",
    "\n",
    "for c in soup.findAll(\"places\"):\n",
    "    items_places.append(c.getText())\n",
    "\n",
    "for d in soup.findAll(\"date\"):\n",
    "    items_date.append(d.getText())\n",
    "'''       \n",
    "\n",
    "    \n",
    "#print soup.reuters.content != None\n",
    "corpus = items_body[0:10]\n",
    "print(corpus)\n"
   ]
  },
  {
   "cell_type": "code",
   "execution_count": null,
   "metadata": {
    "collapsed": true
   },
   "outputs": [],
   "source": []
  },
  {
   "cell_type": "code",
   "execution_count": null,
   "metadata": {
    "collapsed": true
   },
   "outputs": [],
   "source": []
  },
  {
   "cell_type": "code",
   "execution_count": null,
   "metadata": {
    "collapsed": true
   },
   "outputs": [],
   "source": []
  },
  {
   "cell_type": "code",
   "execution_count": null,
   "metadata": {
    "collapsed": true
   },
   "outputs": [],
   "source": []
  },
  {
   "cell_type": "code",
   "execution_count": null,
   "metadata": {
    "collapsed": true
   },
   "outputs": [],
   "source": []
  },
  {
   "cell_type": "code",
   "execution_count": null,
   "metadata": {
    "collapsed": true
   },
   "outputs": [],
   "source": []
  },
  {
   "cell_type": "code",
   "execution_count": null,
   "metadata": {
    "collapsed": true
   },
   "outputs": [],
   "source": []
  },
  {
   "cell_type": "code",
   "execution_count": null,
   "metadata": {
    "collapsed": true
   },
   "outputs": [],
   "source": []
  },
  {
   "cell_type": "code",
   "execution_count": null,
   "metadata": {
    "collapsed": true
   },
   "outputs": [],
   "source": []
  },
  {
   "cell_type": "code",
   "execution_count": null,
   "metadata": {
    "collapsed": true
   },
   "outputs": [],
   "source": []
  },
  {
   "cell_type": "code",
   "execution_count": null,
   "metadata": {
    "collapsed": true
   },
   "outputs": [],
   "source": []
  },
  {
   "cell_type": "code",
   "execution_count": null,
   "metadata": {
    "collapsed": true
   },
   "outputs": [],
   "source": []
  }
 ],
 "metadata": {
  "kernelspec": {
   "display_name": "Python 2",
   "language": "python",
   "name": "python2"
  },
  "language_info": {
   "codemirror_mode": {
    "name": "ipython",
    "version": 2
   },
   "file_extension": ".py",
   "mimetype": "text/x-python",
   "name": "python",
   "nbconvert_exporter": "python",
   "pygments_lexer": "ipython2",
   "version": "2.7.11"
  }
 },
 "nbformat": 4,
 "nbformat_minor": 0
}
